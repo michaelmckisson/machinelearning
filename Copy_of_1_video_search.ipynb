{
  "nbformat": 4,
  "nbformat_minor": 0,
  "metadata": {
    "kernelspec": {
      "display_name": "Python 3",
      "language": "python",
      "name": "python3"
    },
    "language_info": {
      "codemirror_mode": {
        "name": "ipython",
        "version": 3
      },
      "file_extension": ".py",
      "mimetype": "text/x-python",
      "name": "python",
      "nbconvert_exporter": "python",
      "pygments_lexer": "ipython3",
      "version": "3.6.1"
    },
    "colab": {
      "name": "Copy of 1-video-search.ipynb",
      "provenance": []
    }
  },
  "cells": [
    {
      "cell_type": "markdown",
      "metadata": {
        "id": "NFbGdccqt-9c",
        "colab_type": "text"
      },
      "source": [
        "# Search videos using fast.ai\n",
        "\n",
        "This notebook will walk you through a simple example that trains a model to determine if there's a bicycle in an image and then use that to find bicycles in a video.\n",
        "\n",
        "This work is based on the early lessons in [Practical Deep Learning for Coders](https://course.fast.ai/), taught online by Jeremy Howard. I **highly** recommend this free online course.\n",
        "\n",
        "## Using this notebook\n",
        "\n",
        "Essentially you need a computer that's running a GPU running fast.ai. There are a few ways to do this without owning a computer with a GPU (I certainly don't). There are [lots of options](https://course.fast.ai/index.html). I like to use use [the Amazon EC2 setup](https://course.fast.ai/start_aws.html), which is probably the most complicated. In most of these cases, you'll just clone [the workshop repository](https://github.com/Quartz/aistudio-workshops) and get the notebook running.\n",
        "\n",
        "I'm also tailoring this notebook for use with [Google Colaboratory](https://colab.research.google.com), which as of this writing is the fastest, cheapest (free) way to get going.\n"
      ]
    },
    {
      "cell_type": "markdown",
      "metadata": {
        "id": "Jz3a4Gkbt-9d",
        "colab_type": "text"
      },
      "source": [
        "### If you're using Google Colaboratory ...\n",
        "\n",
        "Be aware that Google Colab instances are ephemeral -- they vanish *Poof* when you close them, or after a period of sitting idle (currently 90 minutes).\n",
        "\n",
        "There are great steps on the fast.ai site for [getting started with fast.ai an Google Colab](https://course.fast.ai/start_colab.html). \n",
        "\n",
        "Those instructions will show you how to save your own copy of this _notebook_ to Google Drive.\n",
        "\n",
        "They also tell you how to save a copy of your _data_ to Google Drive (Step 4), which is unneccesary for this workshop. "
      ]
    },
    {
      "cell_type": "code",
      "metadata": {
        "id": "7U1UGvd9t-9d",
        "colab_type": "code",
        "colab": {}
      },
      "source": [
        "## ALL GOOGLE COLAB USERS RUN THIS CELL\n",
        "\n",
        "## This runs a script that installs fast.ai\n",
        "!curl -s https://course.fast.ai/setup/colab | bash"
      ],
      "execution_count": 0,
      "outputs": []
    },
    {
      "cell_type": "markdown",
      "metadata": {
        "id": "6Dj2--cWt-9g",
        "colab_type": "text"
      },
      "source": [
        "### If you are _not_ using Google Colaboratory ...\n",
        "\n",
        "Run the cell below."
      ]
    },
    {
      "cell_type": "code",
      "metadata": {
        "id": "lrzY4_YZt-9h",
        "colab_type": "code",
        "colab": {}
      },
      "source": [
        "## NON-COLABORATORY USERS SHOULD RUN THIS CELL\n",
        "%reload_ext autoreload\n",
        "%autoreload 2\n",
        "%matplotlib inline\n",
        "!sudo apt --yes install ffmpeg"
      ],
      "execution_count": 0,
      "outputs": []
    },
    {
      "cell_type": "markdown",
      "metadata": {
        "id": "cbW-EWVst-9j",
        "colab_type": "text"
      },
      "source": [
        "### Everybody do this ..."
      ]
    },
    {
      "cell_type": "code",
      "metadata": {
        "id": "lvgD7rSht-9k",
        "colab_type": "code",
        "colab": {}
      },
      "source": [
        "## AND *EVERYBODY* SHOULD RUN THIS CELL\n",
        "\n",
        "import glob\n",
        "from fastai.vision import *\n",
        "from fastai.metrics import error_rate\n",
        "from IPython.display import Image as Show"
      ],
      "execution_count": 0,
      "outputs": []
    },
    {
      "cell_type": "markdown",
      "metadata": {
        "id": "ZtCi3-dQt-9m",
        "colab_type": "text"
      },
      "source": [
        "## The Plan\n",
        "\n",
        "The goal is to see if we can spot something specific in a video. This would be useful especially if you had hours of video you didn't have time to watch.\n",
        "\n",
        "In our case, we'll try to spot bicycles in this video:\n",
        "\n",
        "\n",
        "Our plan will be:\n",
        "\n",
        "- Download a computer-vision model pre-trained on 14 million images\n",
        "- Further train that model on images containing \"yes bikes\" and \"no bikes\"\n",
        "- Chop up our video into frames\n",
        "- Use the model to detect bikes in frames"
      ]
    },
    {
      "cell_type": "markdown",
      "metadata": {
        "id": "xZvAJHJ4t-9m",
        "colab_type": "text"
      },
      "source": [
        "## The Data"
      ]
    },
    {
      "cell_type": "markdown",
      "metadata": {
        "id": "9s9N4K5Lt-9n",
        "colab_type": "text"
      },
      "source": [
        "Let's get the video and the \"yes bikes\" and \"no bikes\" images, which are in the folders `bike` and `nobike` respectively."
      ]
    },
    {
      "cell_type": "code",
      "metadata": {
        "id": "2NBDgelJt-9n",
        "colab_type": "code",
        "colab": {}
      },
      "source": [
        "!wget -N https://www.dropbox.com/s/mwvr64v3nv0p88v/testphotos.zip --quiet\n",
        "!unzip -q testphotos.zip\n",
        "print('Done!')"
      ],
      "execution_count": 0,
      "outputs": []
    },
    {
      "cell_type": "markdown",
      "metadata": {
        "id": "c5MSDMDit-9q",
        "colab_type": "text"
      },
      "source": [
        "Now you have a subdirectory called `bikes_data` which contains two folders (`bike` and `nobike`) and the movie."
      ]
    },
    {
      "cell_type": "code",
      "metadata": {
        "id": "nYaqt9KQt-9q",
        "colab_type": "code",
        "colab": {}
      },
      "source": [
        "%ls bikes_data"
      ],
      "execution_count": 0,
      "outputs": []
    },
    {
      "cell_type": "code",
      "metadata": {
        "id": "u3U6gToht-9t",
        "colab_type": "code",
        "colab": {}
      },
      "source": [
        "%ls bikes_data/images"
      ],
      "execution_count": 0,
      "outputs": []
    },
    {
      "cell_type": "code",
      "metadata": {
        "scrolled": true,
        "id": "ByGE5696t-9v",
        "colab_type": "code",
        "colab": {}
      },
      "source": [
        "%ls bikes_data/images/bike"
      ],
      "execution_count": 0,
      "outputs": []
    },
    {
      "cell_type": "markdown",
      "metadata": {
        "id": "RSUNej9rt-9x",
        "colab_type": "text"
      },
      "source": [
        "Let's take a looks at one ..."
      ]
    },
    {
      "cell_type": "code",
      "metadata": {
        "id": "wMa7OW-Rt-9y",
        "colab_type": "code",
        "colab": {}
      },
      "source": [
        "Show(filename='bikes_data/images/bike/IMG_1494.JPG', width=640)"
      ],
      "execution_count": 0,
      "outputs": []
    },
    {
      "cell_type": "markdown",
      "metadata": {
        "id": "oEQLA1Gxt-90",
        "colab_type": "text"
      },
      "source": [
        "Notebooks aren't great at playing videos, so I posted `bikes_data/intersection_movie.mov` on [Vimeo](https://vimeo.com/354069170)."
      ]
    },
    {
      "cell_type": "markdown",
      "metadata": {
        "id": "gHRfXrkWt-90",
        "colab_type": "text"
      },
      "source": [
        "Now we need to load our image data in a format that's ready for the training code. We do that with fast.ai's data block."
      ]
    },
    {
      "cell_type": "code",
      "metadata": {
        "id": "RMg0NlOLt-91",
        "colab_type": "code",
        "colab": {}
      },
      "source": [
        "data_path = Path('./bikes_data/images') ## The path for our data\n",
        "\n",
        "data = (ImageList.from_folder(data_path)  #Where to find the data? -> in path and its subfolders\n",
        "        .split_by_rand_pct()  #How to split in train/valid? -> do it *randomly* (Not by folder)\n",
        "        .label_from_folder()         #How to label? -> depending on the folder of the filenames\n",
        "        .transform(get_transforms(), size=(224,224))  #Data transforms applied, size of images shrink to 224\n",
        "        .databunch(bs=48))"
      ],
      "execution_count": 0,
      "outputs": []
    },
    {
      "cell_type": "code",
      "metadata": {
        "scrolled": true,
        "id": "Eu4eiUOrt-93",
        "colab_type": "code",
        "colab": {}
      },
      "source": [
        "data.show_batch(rows=3)"
      ],
      "execution_count": 0,
      "outputs": []
    },
    {
      "cell_type": "code",
      "metadata": {
        "id": "pFPUGkFxt-95",
        "colab_type": "code",
        "colab": {}
      },
      "source": [
        "# Let's be sure to check our classes\n",
        "print(data.classes)"
      ],
      "execution_count": 0,
      "outputs": []
    },
    {
      "cell_type": "markdown",
      "metadata": {
        "id": "GkwNCfgZt-97",
        "colab_type": "text"
      },
      "source": [
        "## Training\n",
        "\n",
        "Now we will start training our model. We will use a convolutional neural network backbone and a fully connected head with a single hidden layer as a classifier. Don't know what these things mean? Most people don't! For a deeper dive, check out the fast.ai courses.\n",
        "\n",
        "But for now, you need to know that we are building a model which will take images as input and will output the predicted probability for each of the categories: 0 and 1\n",
        "\n",
        "### Transfer learning with resnet34\n",
        "\n",
        "Training a computer-vision mode from scratch to solve our problem would take thousands of images. Maybe more. Instead we take advantage of an existing model that was trained to detect objects -- from planes, to cars, to dogs, to birds -- by processing millions of images. This model is called \"resnet34.\"\n",
        "\n",
        "With fast.ai we can infuse this model with our images (and their labels). This takes advantage of all of resnet34's \"knowledge\" of image-detection and tacks on our particular problem. This technique is called \"transfer learning.\"\n",
        "\n",
        "First we load our `data` and `model.resnet34` together into a training model known as a \"learner.\""
      ]
    },
    {
      "cell_type": "code",
      "metadata": {
        "id": "QdHzY7vVt-98",
        "colab_type": "code",
        "colab": {}
      },
      "source": [
        "learn = cnn_learner(data, models.resnet34, metrics=error_rate)"
      ],
      "execution_count": 0,
      "outputs": []
    },
    {
      "cell_type": "markdown",
      "metadata": {
        "id": "GdTXH9Cst-9-",
        "colab_type": "text"
      },
      "source": [
        "We will train for 6 epochs (6 cycles through all our data)."
      ]
    },
    {
      "cell_type": "code",
      "metadata": {
        "id": "_2iHWJ3Jt-9-",
        "colab_type": "code",
        "colab": {}
      },
      "source": [
        "learn.fit_one_cycle(6)"
      ],
      "execution_count": 0,
      "outputs": []
    },
    {
      "cell_type": "markdown",
      "metadata": {
        "id": "eaKfVYUnt--A",
        "colab_type": "text"
      },
      "source": [
        "#### How are we doing?\n",
        "\n",
        "So far, we have a pretty good error rate. It's actually possible to do even better, but we'll stick with this for now.\n",
        "\n",
        "We can take a look to see where the model was most confused, and whether what the model predicted was reasonable or not."
      ]
    },
    {
      "cell_type": "code",
      "metadata": {
        "collapsed": true,
        "id": "BZHUd3cCt--B",
        "colab_type": "code",
        "colab": {}
      },
      "source": [
        "interp = ClassificationInterpretation.from_learner(learn)\n",
        "losses,idxs = interp.top_losses()\n",
        "len(data.valid_ds)==len(losses)==len(idxs)"
      ],
      "execution_count": 0,
      "outputs": []
    },
    {
      "cell_type": "code",
      "metadata": {
        "collapsed": true,
        "id": "91cxoE-9t--D",
        "colab_type": "code",
        "colab": {}
      },
      "source": [
        "interp.plot_top_losses(9, heatmap=True)"
      ],
      "execution_count": 0,
      "outputs": []
    },
    {
      "cell_type": "markdown",
      "metadata": {
        "id": "bTaRP600t--F",
        "colab_type": "text"
      },
      "source": [
        "We can also see the situations in which it was most confused:"
      ]
    },
    {
      "cell_type": "code",
      "metadata": {
        "collapsed": true,
        "id": "PRIHwq_yt--G",
        "colab_type": "code",
        "colab": {}
      },
      "source": [
        "interp.plot_confusion_matrix(figsize=(4,4), dpi=60)"
      ],
      "execution_count": 0,
      "outputs": []
    },
    {
      "cell_type": "markdown",
      "metadata": {
        "id": "qYMePozmt--K",
        "colab_type": "text"
      },
      "source": [
        "Let's save what we have in case we mess it up later!"
      ]
    },
    {
      "cell_type": "code",
      "metadata": {
        "collapsed": true,
        "id": "Eyl2m4uQt--K",
        "colab_type": "code",
        "colab": {}
      },
      "source": [
        "Show(filename='bikes_data/never_seen_image.jpg', width=640)"
      ],
      "execution_count": 0,
      "outputs": []
    },
    {
      "cell_type": "code",
      "metadata": {
        "collapsed": true,
        "id": "FFWzVRB_t--M",
        "colab_type": "code",
        "colab": {}
      },
      "source": [
        "img = open_image('bikes_data/never_seen_image.jpg')"
      ],
      "execution_count": 0,
      "outputs": []
    },
    {
      "cell_type": "code",
      "metadata": {
        "collapsed": true,
        "id": "PxM_9LSKt--N",
        "colab_type": "code",
        "colab": {}
      },
      "source": [
        "learn.predict(img)"
      ],
      "execution_count": 0,
      "outputs": []
    },
    {
      "cell_type": "code",
      "metadata": {
        "collapsed": true,
        "id": "a2OIU1fdt--P",
        "colab_type": "code",
        "colab": {}
      },
      "source": [
        "pred_class,pred_idx,outputs = learn.predict(img)"
      ],
      "execution_count": 0,
      "outputs": []
    },
    {
      "cell_type": "code",
      "metadata": {
        "collapsed": true,
        "id": "5zi_yUUkt--R",
        "colab_type": "code",
        "colab": {}
      },
      "source": [
        "pred_class"
      ],
      "execution_count": 0,
      "outputs": []
    },
    {
      "cell_type": "code",
      "metadata": {
        "collapsed": true,
        "id": "KsjkoAcQt--T",
        "colab_type": "code",
        "colab": {}
      },
      "source": [
        "str(pred_class)"
      ],
      "execution_count": 0,
      "outputs": []
    },
    {
      "cell_type": "code",
      "metadata": {
        "collapsed": true,
        "id": "aqhSUMjVt--V",
        "colab_type": "code",
        "colab": {}
      },
      "source": [
        "outputs"
      ],
      "execution_count": 0,
      "outputs": []
    },
    {
      "cell_type": "code",
      "metadata": {
        "collapsed": true,
        "scrolled": true,
        "id": "CFG1n_tTt--X",
        "colab_type": "code",
        "colab": {}
      },
      "source": [
        "outputs[0]"
      ],
      "execution_count": 0,
      "outputs": []
    },
    {
      "cell_type": "code",
      "metadata": {
        "collapsed": true,
        "id": "TEGB8ubtt--Z",
        "colab_type": "code",
        "colab": {}
      },
      "source": [
        ""
      ],
      "execution_count": 0,
      "outputs": []
    },
    {
      "cell_type": "markdown",
      "metadata": {
        "id": "zIdnFvznt--c",
        "colab_type": "text"
      },
      "source": [
        "We're also going to _export_ the entire package as a \"pickle\" file called `export.pkl`\n",
        "\n",
        "**Warning for Google Colab users!** Later, when you've done more fine tuning and want to save what you've done, you need to give permission for this notebook to write files to your Google Drive. In that case, you'll want to run the next cell and follow the permission-granting steps. For now, you can skip this."
      ]
    },
    {
      "cell_type": "code",
      "metadata": {
        "collapsed": true,
        "id": "YCGY81bPt--d",
        "colab_type": "code",
        "colab": {}
      },
      "source": [
        "## THIS CELL WILL ALLOW GOOGLE COLAB USERS SAVE MODELS TO YOUR GOOGLE DRIVE\n",
        "\n",
        "from google.colab import drive\n",
        "drive.mount('/content/gdrive', force_remount=True)\n",
        "root_dir = \"/content/gdrive/My Drive/\"\n",
        "save_path = Path(root_dir + 'ai-bikes/')\n",
        "save_path.mkdir(parents=True, exist_ok=True)"
      ],
      "execution_count": 0,
      "outputs": []
    },
    {
      "cell_type": "code",
      "metadata": {
        "collapsed": true,
        "id": "1KhCwfmrt--g",
        "colab_type": "code",
        "colab": {}
      },
      "source": [
        "learn.export(\"export.pkl\")"
      ],
      "execution_count": 0,
      "outputs": []
    },
    {
      "cell_type": "markdown",
      "metadata": {
        "id": "yv6dMQ6et--i",
        "colab_type": "text"
      },
      "source": [
        "## Search our video\n",
        "\n",
        "Now we'll apply our model to our video! First we need to turn the video into a bunch of images using `ffmpeg`, which we loaded at the beginning of this notebook."
      ]
    },
    {
      "cell_type": "code",
      "metadata": {
        "id": "2mjsyXV8t--j",
        "colab_type": "code",
        "colab": {}
      },
      "source": [
        "!ffmpeg -i bikes_data/intersection_movie.mov -vf fps=1 -hide_banner -loglevel panic -vsync 0 myframe%04d.jpg"
      ],
      "execution_count": 0,
      "outputs": []
    },
    {
      "cell_type": "code",
      "metadata": {
        "id": "0WyR-D6Et--l",
        "colab_type": "code",
        "colab": {}
      },
      "source": [
        "%ls"
      ],
      "execution_count": 0,
      "outputs": []
    },
    {
      "cell_type": "code",
      "metadata": {
        "id": "vaBNFWQLt--n",
        "colab_type": "code",
        "colab": {}
      },
      "source": [
        "glob.glob('myframe*.*')"
      ],
      "execution_count": 0,
      "outputs": []
    },
    {
      "cell_type": "markdown",
      "metadata": {
        "id": "5xGeaA2pt--q",
        "colab_type": "text"
      },
      "source": [
        "If we had saved the exported model as a \"pickle\" or `.pkl` file, the next line would load it in from disk."
      ]
    },
    {
      "cell_type": "code",
      "metadata": {
        "id": "7mO8kTl6t--q",
        "colab_type": "code",
        "colab": {}
      },
      "source": [
        "# learn = load_learner(path)  # this gets the exported pickle file, which is stored in the image data path"
      ],
      "execution_count": 0,
      "outputs": []
    },
    {
      "cell_type": "code",
      "metadata": {
        "id": "26-FnUwrt--s",
        "colab_type": "code",
        "colab": {}
      },
      "source": [
        "file_list = sorted(glob.glob('myframe*.*'))\n",
        "\n",
        "for file in file_list:\n",
        "    image = open_image(file)\n",
        "    pred_class,pred_idx,outputs = learn.predict(image)\n",
        "        \n",
        "    if str(pred_class) == \"bike\" and outputs[0] > 0.85:\n",
        "        print(f'Bike detected in {file} with confidence {outputs[0]}')\n",
        "    "
      ],
      "execution_count": 0,
      "outputs": []
    },
    {
      "cell_type": "code",
      "metadata": {
        "id": "kXmEAjh9t--t",
        "colab_type": "code",
        "colab": {}
      },
      "source": [
        "Show(filename='myframe0025.jpg', width=640)"
      ],
      "execution_count": 0,
      "outputs": []
    },
    {
      "cell_type": "code",
      "metadata": {
        "id": "AytarcX2t--v",
        "colab_type": "code",
        "colab": {}
      },
      "source": [
        ""
      ],
      "execution_count": 0,
      "outputs": []
    }
  ]
}